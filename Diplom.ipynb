{
 "cells": [
  {
   "cell_type": "markdown",
   "metadata": {},
   "source": [
    "Вывести список групп в ВК в которых состоит пользователь, но не\n",
    "состоит никто из его друзей. В качестве жертвы, на ком тестировать, можно\n",
    "использовать: https://vk.com/tim_leary"
   ]
  },
  {
   "cell_type": "code",
   "execution_count": 1,
   "metadata": {
    "collapsed": true
   },
   "outputs": [],
   "source": [
    "import requests\n",
    "from urllib.parse import urlencode\n",
    "import json\n",
    "import time"
   ]
  },
  {
   "cell_type": "code",
   "execution_count": 2,
   "metadata": {
    "collapsed": true
   },
   "outputs": [],
   "source": [
    "AUTHORIZE_URL = 'https://oauth.vk.com/authorize'\n",
    "CLIENT_ID = 5030613\n",
    "REDIRECT_URI = ''"
   ]
  },
  {
   "cell_type": "code",
   "execution_count": 10,
   "metadata": {
    "collapsed": false
   },
   "outputs": [],
   "source": [
    "auth_data = {\n",
    "    'client_id': CLIENT_ID,\n",
    "    'display': 'popup',\n",
    "    'response_type': 'token',\n",
    "    'scope': 'friends, status',\n",
    "    'v': '5.68'\n",
    "}\n",
    "\n",
    "token_url = '?'.join((AUTHORIZE_URL, urlencode(auth_data)))\n",
    "\n",
    "access_token = '5dfd6b0dee902310df772082421968f4c06443abecbc082a8440cb18910a56daca73ac8d04b25154a1128'\n",
    "params = {\n",
    "    'access_token': access_token,\n",
    "    'v': '5.68',\n",
    "    #'fields': 'id, name, members_count'\n",
    "}"
   ]
  },
  {
   "cell_type": "code",
   "execution_count": 17,
   "metadata": {
    "collapsed": false
   },
   "outputs": [
    {
     "name": "stdout",
     "output_type": "stream",
     "text": [
      "[4929, 7858, 11952, 71295, 71491, 75458, 78540, 143611, 144253, 214895, 317799, 659299, 659436, 662584, 673741, 692250, 768496, 787463, 788652, 855521, 911031, 913182, 999522, 1032766, 1134398, 1246368, 1339341, 1367530, 1440049, 1471450, 1646659, 1763623, 1766644, 1809780, 2062117, 2086139, 2090146, 2456344, 2559236, 2562369, 2657088, 2705957, 2711121, 2752341, 2809629, 2912707, 3076020, 3551352, 3563036, 3636234, 3858793, 5165523, 5527094, 5561531, 5727022, 6099111, 6152449, 6215299, 6334999, 6433503, 6821814, 7443583, 7776415, 7840937, 8219833, 9470247, 9889116, 10684633, 10875152, 11364269, 11479238, 11986689, 12941980, 13122477, 13335254, 13763476, 14230616, 14550543, 14704667, 15164302, 15258454, 15431923, 16026849, 16232197, 16244955, 16599580, 16761062, 16892193, 17488975, 17650760, 17962268, 18062307, 19832321, 20272794, 20488230, 21198190, 21283573, 22879376, 25598114, 26274755, 29102472, 32353261, 32744834, 33769451, 41016241, 41475773, 42609976, 46298639, 46370315, 46680193, 48102502, 49396083, 52262270, 52612027, 54632388, 57052402, 58798893, 59648648, 62063198, 62933544, 64626974, 65081354, 65359751, 77862315, 79101880, 83654550, 85184665, 88305738, 88359019, 93179895, 97172348, 110553958, 128251264, 132411195, 134994318, 142965761, 152062439, 152746319, 153933504, 155686070, 161468248, 163954112, 171917250, 173110550, 173884854, 175707944, 184688820, 193126555, 208537381, 223235705, 227029485, 229416595, 231842339, 237468206, 252091764, 255838606, 283037583, 300349200, 340887494, 379188930, 401466040, 417989532, 434109816, 437280430]\n"
     ]
    }
   ],
   "source": [
    "response = requests.get('https://api.vk.com/method/friends.get', params) #список друзей пользователя\n",
    "users = (response.json()['response']['items'])\n",
    "print(users)"
   ]
  },
  {
   "cell_type": "code",
   "execution_count": 5,
   "metadata": {
    "collapsed": false
   },
   "outputs": [
    {
     "name": "stdout",
     "output_type": "stream",
     "text": [
      "{'count': 10, 'items': [{'id': 51766355, 'name': 'Жизнь в Кудрово', 'screen_name': 'kudrovolife', 'is_closed': 0, 'type': 'page', 'members_count': 35025, 'photo_50': 'https://pp.userapi.com/c626119/v626119994/2497a/USz-b4FR-3g.jpg', 'photo_100': 'https://pp.userapi.com/c626119/v626119994/24979/dfwR7WloLso.jpg', 'photo_200': 'https://pp.userapi.com/c626119/v626119994/24978/jE97lzYrMZ0.jpg'}, {'id': 87389803, 'name': 'Смотри, что я нашел на AliExpress', 'screen_name': 'godnoten', 'is_closed': 0, 'type': 'page', 'members_count': 1112847, 'photo_50': 'https://pp.userapi.com/c622328/v622328093/3a86c/6UlSctPUCBs.jpg', 'photo_100': 'https://pp.userapi.com/c622328/v622328093/3a86b/Sd3B_UGtD0o.jpg', 'photo_200': 'https://pp.userapi.com/c622328/v622328093/3a869/WzxTB0EiN84.jpg'}, {'id': 4100014, 'name': 'Новые Альбомы', 'screen_name': 'newalbums', 'is_closed': 0, 'type': 'page', 'members_count': 527896, 'photo_50': 'https://pp.userapi.com/c421724/v421724017/88b7/OdgVNpVbJes.jpg', 'photo_100': 'https://pp.userapi.com/c421724/v421724017/88b6/GYSmUHvTJhY.jpg', 'photo_200': 'https://pp.userapi.com/c421724/v421724017/88b5/rpkYIzrxkNo.jpg'}, {'id': 8564, 'name': 'Synthpop  [Futurepop, Retrowave, Electropop]', 'screen_name': 'synthpop_music', 'is_closed': 0, 'type': 'page', 'members_count': 21672, 'photo_50': 'https://pp.userapi.com/c637224/v637224032/27881/yr_XqliFk7Q.jpg', 'photo_100': 'https://pp.userapi.com/c637224/v637224032/27880/nOOYFCx7oeI.jpg', 'photo_200': 'https://pp.userapi.com/c637224/v637224032/2787f/75LJO8UMIXM.jpg'}, {'id': 124656670, 'name': 'Недвижимость в Кудрово', 'screen_name': 'kudrovorealty', 'is_closed': 0, 'type': 'page', 'members_count': 7643, 'photo_50': 'https://pp.userapi.com/c630725/v630725994/41049/AlmpbMvTAd0.jpg', 'photo_100': 'https://pp.userapi.com/c630725/v630725994/41048/yVm5d6BL0CM.jpg', 'photo_200': 'https://pp.userapi.com/c630725/v630725994/41047/0o-7aWfsJZk.jpg'}, {'id': 151498735, 'name': 'СИЛА', 'screen_name': 'silatv', 'is_closed': 0, 'type': 'page', 'members_count': 149770, 'photo_50': 'https://pp.userapi.com/c638025/v638025048/4aaf1/uCwLmvc557w.jpg', 'photo_100': 'https://pp.userapi.com/c638025/v638025048/4aaf0/6vkIiul_ADA.jpg', 'photo_200': 'https://pp.userapi.com/c638025/v638025048/4aaee/M4Uyn7yLV9Q.jpg'}, {'id': 36661515, 'name': 'Электрофорез', 'screen_name': 'electroforez', 'is_closed': 0, 'type': 'page', 'members_count': 25847, 'photo_50': 'https://pp.userapi.com/c841433/v841433877/2de32/B3-GMjalWLE.jpg', 'photo_100': 'https://pp.userapi.com/c841433/v841433877/2de31/b0m12sUdHWc.jpg', 'photo_200': 'https://pp.userapi.com/c841433/v841433877/2de30/SE1tnWkH_R8.jpg'}, {'id': 30314549, 'name': 'ЛСП', 'screen_name': 'lspolegi', 'is_closed': 0, 'type': 'page', 'members_count': 590298, 'photo_50': 'https://pp.userapi.com/c638830/v638830456/322db/1oygEHFrfl4.jpg', 'photo_100': 'https://pp.userapi.com/c638830/v638830456/322da/Xv6VG0TAC3U.jpg', 'photo_200': 'https://pp.userapi.com/c638830/v638830456/322d8/9FOhxArY4Y4.jpg'}, {'id': 35486626, 'name': 'Другая музыка', 'screen_name': 'another_muz', 'is_closed': 0, 'type': 'page', 'members_count': 822707, 'photo_50': 'https://pp.userapi.com/c840239/v840239088/41737/2gseocyyfps.jpg', 'photo_100': 'https://pp.userapi.com/c840239/v840239088/41736/ji2M7Q4J3fk.jpg', 'photo_200': 'https://pp.userapi.com/c840239/v840239088/41735/hV-gVc1jAkk.jpg'}, {'id': 27683540, 'name': 'E:\\\\music\\\\trip-hop', 'screen_name': 'e_triphop', 'is_closed': 0, 'type': 'page', 'members_count': 79773, 'photo_50': 'https://pp.userapi.com/c624728/v624728366/30bb5/kfKHB1OUAbE.jpg', 'photo_100': 'https://pp.userapi.com/c624728/v624728366/30bb4/_P0_3KKnAJo.jpg', 'photo_200': 'https://pp.userapi.com/c624728/v624728366/30bb3/2Vo-KIPqQts.jpg'}]}\n"
     ]
    }
   ],
   "source": [
    "response_groups = requests.get('https://api.vk.com/method/groups.get', {\n",
    "    'access_token': access_token,\n",
    "    'v': '5.68',\n",
    "    'extended': 1,\n",
    "    'fields': 'id,name,members_count',\n",
    "})\n",
    "groups = (response_groups.json()['response'])\n",
    "print(groups) #выводим группы пользователя "
   ]
  },
  {
   "cell_type": "code",
   "execution_count": 12,
   "metadata": {
    "collapsed": false
   },
   "outputs": [
    {
     "data": {
      "text/plain": [
       "[{'id': 51766355,\n",
       "  'is_closed': 0,\n",
       "  'members_count': 35025,\n",
       "  'name': 'Жизнь в Кудрово',\n",
       "  'photo_100': 'https://pp.userapi.com/c626119/v626119994/24979/dfwR7WloLso.jpg',\n",
       "  'photo_200': 'https://pp.userapi.com/c626119/v626119994/24978/jE97lzYrMZ0.jpg',\n",
       "  'photo_50': 'https://pp.userapi.com/c626119/v626119994/2497a/USz-b4FR-3g.jpg',\n",
       "  'screen_name': 'kudrovolife',\n",
       "  'type': 'page'},\n",
       " {'id': 87389803,\n",
       "  'is_closed': 0,\n",
       "  'members_count': 1112847,\n",
       "  'name': 'Смотри, что я нашел на AliExpress',\n",
       "  'photo_100': 'https://pp.userapi.com/c622328/v622328093/3a86b/Sd3B_UGtD0o.jpg',\n",
       "  'photo_200': 'https://pp.userapi.com/c622328/v622328093/3a869/WzxTB0EiN84.jpg',\n",
       "  'photo_50': 'https://pp.userapi.com/c622328/v622328093/3a86c/6UlSctPUCBs.jpg',\n",
       "  'screen_name': 'godnoten',\n",
       "  'type': 'page'},\n",
       " {'id': 4100014,\n",
       "  'is_closed': 0,\n",
       "  'members_count': 527896,\n",
       "  'name': 'Новые Альбомы',\n",
       "  'photo_100': 'https://pp.userapi.com/c421724/v421724017/88b6/GYSmUHvTJhY.jpg',\n",
       "  'photo_200': 'https://pp.userapi.com/c421724/v421724017/88b5/rpkYIzrxkNo.jpg',\n",
       "  'photo_50': 'https://pp.userapi.com/c421724/v421724017/88b7/OdgVNpVbJes.jpg',\n",
       "  'screen_name': 'newalbums',\n",
       "  'type': 'page'},\n",
       " {'id': 8564,\n",
       "  'is_closed': 0,\n",
       "  'members_count': 21672,\n",
       "  'name': 'Synthpop  [Futurepop, Retrowave, Electropop]',\n",
       "  'photo_100': 'https://pp.userapi.com/c637224/v637224032/27880/nOOYFCx7oeI.jpg',\n",
       "  'photo_200': 'https://pp.userapi.com/c637224/v637224032/2787f/75LJO8UMIXM.jpg',\n",
       "  'photo_50': 'https://pp.userapi.com/c637224/v637224032/27881/yr_XqliFk7Q.jpg',\n",
       "  'screen_name': 'synthpop_music',\n",
       "  'type': 'page'},\n",
       " {'id': 124656670,\n",
       "  'is_closed': 0,\n",
       "  'members_count': 7643,\n",
       "  'name': 'Недвижимость в Кудрово',\n",
       "  'photo_100': 'https://pp.userapi.com/c630725/v630725994/41048/yVm5d6BL0CM.jpg',\n",
       "  'photo_200': 'https://pp.userapi.com/c630725/v630725994/41047/0o-7aWfsJZk.jpg',\n",
       "  'photo_50': 'https://pp.userapi.com/c630725/v630725994/41049/AlmpbMvTAd0.jpg',\n",
       "  'screen_name': 'kudrovorealty',\n",
       "  'type': 'page'},\n",
       " {'id': 151498735,\n",
       "  'is_closed': 0,\n",
       "  'members_count': 149770,\n",
       "  'name': 'СИЛА',\n",
       "  'photo_100': 'https://pp.userapi.com/c638025/v638025048/4aaf0/6vkIiul_ADA.jpg',\n",
       "  'photo_200': 'https://pp.userapi.com/c638025/v638025048/4aaee/M4Uyn7yLV9Q.jpg',\n",
       "  'photo_50': 'https://pp.userapi.com/c638025/v638025048/4aaf1/uCwLmvc557w.jpg',\n",
       "  'screen_name': 'silatv',\n",
       "  'type': 'page'},\n",
       " {'id': 36661515,\n",
       "  'is_closed': 0,\n",
       "  'members_count': 25847,\n",
       "  'name': 'Электрофорез',\n",
       "  'photo_100': 'https://pp.userapi.com/c841433/v841433877/2de31/b0m12sUdHWc.jpg',\n",
       "  'photo_200': 'https://pp.userapi.com/c841433/v841433877/2de30/SE1tnWkH_R8.jpg',\n",
       "  'photo_50': 'https://pp.userapi.com/c841433/v841433877/2de32/B3-GMjalWLE.jpg',\n",
       "  'screen_name': 'electroforez',\n",
       "  'type': 'page'},\n",
       " {'id': 30314549,\n",
       "  'is_closed': 0,\n",
       "  'members_count': 590298,\n",
       "  'name': 'ЛСП',\n",
       "  'photo_100': 'https://pp.userapi.com/c638830/v638830456/322da/Xv6VG0TAC3U.jpg',\n",
       "  'photo_200': 'https://pp.userapi.com/c638830/v638830456/322d8/9FOhxArY4Y4.jpg',\n",
       "  'photo_50': 'https://pp.userapi.com/c638830/v638830456/322db/1oygEHFrfl4.jpg',\n",
       "  'screen_name': 'lspolegi',\n",
       "  'type': 'page'},\n",
       " {'id': 35486626,\n",
       "  'is_closed': 0,\n",
       "  'members_count': 822707,\n",
       "  'name': 'Другая музыка',\n",
       "  'photo_100': 'https://pp.userapi.com/c840239/v840239088/41736/ji2M7Q4J3fk.jpg',\n",
       "  'photo_200': 'https://pp.userapi.com/c840239/v840239088/41735/hV-gVc1jAkk.jpg',\n",
       "  'photo_50': 'https://pp.userapi.com/c840239/v840239088/41737/2gseocyyfps.jpg',\n",
       "  'screen_name': 'another_muz',\n",
       "  'type': 'page'},\n",
       " {'id': 27683540,\n",
       "  'is_closed': 0,\n",
       "  'members_count': 79773,\n",
       "  'name': 'E:\\\\music\\\\trip-hop',\n",
       "  'photo_100': 'https://pp.userapi.com/c624728/v624728366/30bb4/_P0_3KKnAJo.jpg',\n",
       "  'photo_200': 'https://pp.userapi.com/c624728/v624728366/30bb3/2Vo-KIPqQts.jpg',\n",
       "  'photo_50': 'https://pp.userapi.com/c624728/v624728366/30bb5/kfKHB1OUAbE.jpg',\n",
       "  'screen_name': 'e_triphop',\n",
       "  'type': 'page'}]"
      ]
     },
     "execution_count": 12,
     "metadata": {},
     "output_type": "execute_result"
    }
   ],
   "source": [
    "groups['items'] #cмотрим на них еще раз, но в более читаемом варианте"
   ]
  },
  {
   "cell_type": "code",
   "execution_count": 7,
   "metadata": {
    "collapsed": false
   },
   "outputs": [
    {
     "name": "stdout",
     "output_type": "stream",
     "text": [
      "dict_keys([51766355, 87389803, 4100014, 8564, 124656670, 151498735, 36661515, 30314549, 35486626, 27683540])\n"
     ]
    }
   ],
   "source": [
    "groups_dict = { g['id']: g for g in groups['items'] }\n",
    "print(groups_dict.keys()) #выводим все id, чтобы помотреть потом пересечение с группами других пользователей"
   ]
  },
  {
   "cell_type": "code",
   "execution_count": 19,
   "metadata": {
    "collapsed": false
   },
   "outputs": [],
   "source": [
    "for i, user in enumerate(users):\n",
    "    while True:\n",
    "        response_groups_friends = requests.get('https://api.vk.com/method/groups.get',{\n",
    "            'access_token': access_token,\n",
    "            'v': '5.68',\n",
    "            'user_id': user,\n",
    "        })\n",
    "        response_data = response_groups_friends.json()\n",
    "        try:\n",
    "            #print(user, response_data['response']) #позволяет распечатать список групп, но для задачи это не нужно\n",
    "            for group_id in response_data['response']['items']:\n",
    "                try:\n",
    "                    del groups_dict[group_id] #удаляем из списка исходного пользоватял те группы, что есть у друзей\n",
    "                except KeyError:\n",
    "                    pass\n",
    "        except KeyError:\n",
    "            #print('ERROR', response_data['error']) #выводит все ошибки - для нашей задачи это не нужно\n",
    "            if response_data['error']['error_code'] == 6: #ошибка если обращений в секунду слишком много\n",
    "                time.sleep(1)\n",
    "                continue\n",
    "            elif response_data['error']['error_code'] == 7: #если пользователь закрыл свои группы\n",
    "                pass\n",
    "            elif response_data['error']['error_code'] == 18: #если удален или забанен\n",
    "                pass\n",
    "        break\n",
    "        "
   ]
  },
  {
   "cell_type": "code",
   "execution_count": 20,
   "metadata": {
    "collapsed": false
   },
   "outputs": [
    {
     "name": "stdout",
     "output_type": "stream",
     "text": [
      "{8564: {'id': 8564, 'name': 'Synthpop  [Futurepop, Retrowave, Electropop]', 'screen_name': 'synthpop_music', 'is_closed': 0, 'type': 'page', 'members_count': 21672, 'photo_50': 'https://pp.userapi.com/c637224/v637224032/27881/yr_XqliFk7Q.jpg', 'photo_100': 'https://pp.userapi.com/c637224/v637224032/27880/nOOYFCx7oeI.jpg', 'photo_200': 'https://pp.userapi.com/c637224/v637224032/2787f/75LJO8UMIXM.jpg'}, 124656670: {'id': 124656670, 'name': 'Недвижимость в Кудрово', 'screen_name': 'kudrovorealty', 'is_closed': 0, 'type': 'page', 'members_count': 7643, 'photo_50': 'https://pp.userapi.com/c630725/v630725994/41049/AlmpbMvTAd0.jpg', 'photo_100': 'https://pp.userapi.com/c630725/v630725994/41048/yVm5d6BL0CM.jpg', 'photo_200': 'https://pp.userapi.com/c630725/v630725994/41047/0o-7aWfsJZk.jpg'}, 36661515: {'id': 36661515, 'name': 'Электрофорез', 'screen_name': 'electroforez', 'is_closed': 0, 'type': 'page', 'members_count': 25847, 'photo_50': 'https://pp.userapi.com/c841433/v841433877/2de32/B3-GMjalWLE.jpg', 'photo_100': 'https://pp.userapi.com/c841433/v841433877/2de31/b0m12sUdHWc.jpg', 'photo_200': 'https://pp.userapi.com/c841433/v841433877/2de30/SE1tnWkH_R8.jpg'}}\n"
     ]
    }
   ],
   "source": [
    "print(groups_dict) #смотрим что осталось после удаления"
   ]
  },
  {
   "cell_type": "code",
   "execution_count": 21,
   "metadata": {
    "collapsed": false
   },
   "outputs": [
    {
     "name": "stdout",
     "output_type": "stream",
     "text": [
      "['Synthpop  [Futurepop, Retrowave, Electropop]', 'Недвижимость в Кудрово', 'Электрофорез']\n"
     ]
    }
   ],
   "source": [
    "print([g['name'] for g in groups_dict.values()]) #просто смотрим названия групп"
   ]
  },
  {
   "cell_type": "code",
   "execution_count": 22,
   "metadata": {
    "collapsed": false
   },
   "outputs": [
    {
     "name": "stdout",
     "output_type": "stream",
     "text": [
      "[{'id': 8564, 'name': 'Synthpop  [Futurepop, Retrowave, Electropop]', 'members_count': 21672}]\n",
      "[{'id': 8564, 'name': 'Synthpop  [Futurepop, Retrowave, Electropop]', 'members_count': 21672}, {'id': 124656670, 'name': 'Недвижимость в Кудрово', 'members_count': 7643}]\n",
      "[{'id': 8564, 'name': 'Synthpop  [Futurepop, Retrowave, Electropop]', 'members_count': 21672}, {'id': 124656670, 'name': 'Недвижимость в Кудрово', 'members_count': 7643}, {'id': 36661515, 'name': 'Электрофорез', 'members_count': 25847}]\n"
     ]
    }
   ],
   "source": [
    "groups = []\n",
    "for item in groups_dict.values():\n",
    "    groups.append({'id':item['id'], 'name':item['name'],'members_count':item['members_count']})\n",
    "    print(groups) #приводим данные в порядок для json"
   ]
  },
  {
   "cell_type": "code",
   "execution_count": 23,
   "metadata": {
    "collapsed": false
   },
   "outputs": [],
   "source": [
    "with open('groups.json', 'w', encoding='utf-8') as outfile:\n",
    "    json.dump(groups, outfile, indent=2, ensure_ascii=True) #сохраняем ответ в json"
   ]
  },
  {
   "cell_type": "code",
   "execution_count": null,
   "metadata": {
    "collapsed": true
   },
   "outputs": [],
   "source": []
  }
 ],
 "metadata": {
  "kernelspec": {
   "display_name": "Python 3",
   "language": "python",
   "name": "python3"
  },
  "language_info": {
   "codemirror_mode": {
    "name": "ipython",
    "version": 3
   },
   "file_extension": ".py",
   "mimetype": "text/x-python",
   "name": "python",
   "nbconvert_exporter": "python",
   "pygments_lexer": "ipython3",
   "version": "3.6.0"
  }
 },
 "nbformat": 4,
 "nbformat_minor": 2
}
